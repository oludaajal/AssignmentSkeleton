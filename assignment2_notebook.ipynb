{
 "cells": [
  {
   "cell_type": "code",
   "execution_count": 65,
   "id": "a6857c60",
   "metadata": {},
   "outputs": [
    {
     "name": "stdout",
     "output_type": "stream",
     "text": [
      "The autoreload extension is already loaded. To reload it, use:\n",
      "  %reload_ext autoreload\n"
     ]
    },
    {
     "data": {
      "image/png": "[encoded data removed]",
      "text/plain": [
       "<Figure size 1300x600 with 1 Axes>"
      ]
     },
     "metadata": {},
     "output_type": "display_data"
    },
    {
     "data": {
      "text/plain": [
       "<Figure size 640x480 with 0 Axes>"
      ]
     },
     "metadata": {},
     "output_type": "display_data"
    }
   ],
   "source": [
    "%load_ext autoreload\n",
    "%autoreload 2\n",
    "\n",
    "%matplotlib inline\n",
    "\n",
    "    #Did this all in one cell ans when I had miltiple the drawing was not popping up.\n",
    "\n",
    "import pandas as pd\n",
    "pd.set_option(\"display.max_rows\", 101)\n",
    "pd.set_option(\"display.max_columns\", 101)\n",
    "\n",
    "import matplotlib.pyplot as plt\n",
    "import matplotlib.patches as patches\n",
    "\n",
    "#dimensions in feet\n",
    "\n",
    "doubles_length = 78\n",
    "doubles_width = 36\n",
    "singles_length = 78\n",
    "singles_width = 27\n",
    "net_position = doubles_length/2.0\n",
    "net_position_horizontal = doubles_width/2\n",
    "\n",
    "#service line is 21 ft from the net\n",
    "service_distance = 21\n",
    "service_line_1 = net_position - service_distance\n",
    "service_line_2 = net_position + service_distance\n",
    "\n",
    "singles_sideline = (doubles_width - singles_width)/2.0\n",
    "singles_sideline_left = singles_sideline\n",
    "singles_sideline_right = doubles_width - singles_sideline\n",
    "\n",
    "centre_service_line = doubles_length/2\n",
    "\n",
    "#making the horizontal box\n",
    "fig, ax = plt.subplots(figsize=(13,6))\n",
    "\n",
    "#Outside doubles court rectangle\n",
    "outside = patches.Rectangle((0,0), doubles_length, doubles_width, fill=False, linewidth = 2)\n",
    "ax.add_patch(outside)\n",
    "\n",
    "#Singles court sidelines\n",
    "ax.plot([0, doubles_length], [singles_sideline_left, singles_sideline_left], linewidth=1.5)\n",
    "ax.plot([0, doubles_length], [singles_sideline_right, singles_sideline_right], linewidth = 1.5)\n",
    "\n",
    "\n",
    "#making of the baseline, the line on left and right side where players start\n",
    "\n",
    "ax.plot([0, 0], [0, doubles_width], linewidth = 2) #for left side\n",
    "ax.plot([doubles_length, doubles_length], [0, doubles_width], linewidth = 2) #for the right side\n",
    "\n",
    "#drawing the net\n",
    "ax.plot([net_position, net_position], [0,doubles_width], linewidth = 1.5)\n",
    "\n",
    "\n",
    "#drawing the service lines\n",
    "ax.plot([service_line_1, service_line_1], [0, doubles_width], linewidth = 1.5)\n",
    "ax.plot([service_line_2, service_line_2], [0, doubles_width], linewidth = 1.5)\n",
    "\n",
    "\n",
    "#drawing the centre service line\n",
    "ax.plot([service_line_1, service_line_2], [net_position_horizontal, net_position_horizontal], linewidth = 1.5)\n",
    "\n",
    "\n",
    "#Baseline centre markings on the baseline to guide when serving\n",
    "centre_marking = 0.25\n",
    "ax.plot([0, 0], [net_position_horizontal - centre_marking, net_position_horizontal + centre_marking], linewidth = 1.5)\n",
    "ax.plot([doubles_length, doubles_length], [net_position_horizontal - centre_marking, net_position_horizontal + centre_marking], linewidth = 1.5)\n",
    "\n",
    "\n",
    "#drawing the servicebox\n",
    "ax.plot([service_line_1, service_line_2], [singles_sideline_left, singles_sideline_left], linewidth = 1.5)\n",
    "ax.plot([service_line_1, service_line_2], [singles_sideline_right, singles_sideline_right], linewidth = 1.5)\n",
    "\n",
    "\n",
    "#Scaling the dimensions using \"set_aspect\", so that 1 unit of feet on the x-axis is the same as on the y-axis\n",
    "\n",
    "ax.set_aspect('equal', adjustable = 'box')\n",
    "ax.set_xlim(-1, doubles_length + 1)\n",
    "ax.set_ylim(-1, doubles_width + 1)\n",
    "\n",
    "\n",
    "#setting the title\n",
    "ax.set_title(\"Horizontal Tennis Court in feet\")\n",
    "\n",
    "#print the drawing\n",
    "plt.show()\n",
    "\n",
    "plt.savefig(\"Tennis_court.png\", dpi=300, bbox_inches=\"tight\")\n"
   ]
  },
  {
   "cell_type": "code",
   "execution_count": 6,
   "id": "d2b01551",
   "metadata": {},
   "outputs": [],
   "source": []
  },
  {
   "cell_type": "code",
   "execution_count": 7,
   "id": "27793560",
   "metadata": {},
   "outputs": [],
   "source": []
  },
  {
   "cell_type": "code",
   "execution_count": 8,
   "id": "dbcb5835",
   "metadata": {},
   "outputs": [],
   "source": [
    "#dimensions in feet"
   ]
  },
  {
   "cell_type": "code",
   "execution_count": 44,
   "id": "8ac53833",
   "metadata": {},
   "outputs": [],
   "source": [
    "doubles_length = 78\n",
    "doubles_width = 36\n",
    "singles_length = 78\n",
    "singles_width = 27\n",
    "net_position = doubles_length/2\n",
    "net_position_horizontal = doubles_width/2"
   ]
  },
  {
   "cell_type": "code",
   "execution_count": 34,
   "id": "fc38b01e",
   "metadata": {},
   "outputs": [],
   "source": [
    "#service line is 21 ft from the net\n",
    "service_distance = 21\n",
    "service_line_1 = net_position - service_distance\n",
    "service_line_2 = net_position + service_distance\n",
    "\n",
    "singles_sideline = (doubles_width - singles_width)/2\n",
    "singles_sideline_left = singles_sideline\n",
    "singles_sideline_right = doubles_width - singles_sideline\n",
    "\n",
    "\n",
    "#Baseline centre markings on the baseline to guide when serving\n",
    "centre_marking = 0.25\n",
    "ax.plot([0, 0], [net_position_horizontal - centre_marking, net_position_horizontal + centre_marking], linewidth = 1.5)\n",
    "ax.plot([doubles_length, doubles_length], [net_position_horizontal - centre_marking, net_position_horizontal + centre_marking], linewidth = 1.5)\n"
   ]
  },
  {
   "cell_type": "code",
   "execution_count": 35,
   "id": "9d0151b7",
   "metadata": {},
   "outputs": [],
   "source": [
    "centre_service_line = doubles_length/2\n"
   ]
  },
  {
   "cell_type": "code",
   "execution_count": 36,
   "id": "ca6f401d",
   "metadata": {},
   "outputs": [
    {
     "data": {
      "image/png": "[encoded data removed]",
      "text/plain": [
       "<Figure size 1300x600 with 1 Axes>"
      ]
     },
     "metadata": {},
     "output_type": "display_data"
    }
   ],
   "source": [
    "fig, ax = plt.subplots(figsize=(13,6))"
   ]
  },
  {
   "cell_type": "code",
   "execution_count": 59,
   "id": "c309dbe9",
   "metadata": {},
   "outputs": [
    {
     "data": {
      "text/plain": [
       "<matplotlib.patches.Rectangle at 0x10d24c410>"
      ]
     },
     "execution_count": 59,
     "metadata": {},
     "output_type": "execute_result"
    }
   ],
   "source": [
    "#Outside doubles court rectangle\n",
    "outside = patches.Rectangle((0,0), doubles_length, doubles_width, fill=False, linewidth = 2)\n",
    "ax.add_patch(outside)"
   ]
  },
  {
   "cell_type": "code",
   "execution_count": 38,
   "id": "7e08d7bc",
   "metadata": {},
   "outputs": [
    {
     "data": {
      "text/plain": [
       "[<matplotlib.lines.Line2D at 0x10d15a0d0>]"
      ]
     },
     "execution_count": 38,
     "metadata": {},
     "output_type": "execute_result"
    }
   ],
   "source": [
    "#Singles court sidelines\n",
    "ax.plot([singles_sideline_left, singles_sideline_left], [0, doubles_length], linewidth=1.5)\n",
    "ax.plot([singles_sideline_right, singles_sideline_right], [0, doubles_length], linewidth = 1.5)"
   ]
  },
  {
   "cell_type": "code",
   "execution_count": 39,
   "id": "24c81592",
   "metadata": {},
   "outputs": [
    {
     "data": {
      "text/plain": [
       "[<matplotlib.lines.Line2D at 0x10d15a350>]"
      ]
     },
     "execution_count": 39,
     "metadata": {},
     "output_type": "execute_result"
    }
   ],
   "source": [
    "#making of the baseline, the line on left and right side where players start\n",
    "\n",
    "ax.plot([0, 0], [0, doubles_width], linewidth = 2) #for left side\n",
    "ax.plot([doubles_length, doubles_length], [0, doubles_width], linewidth = 2) #for the right side\n"
   ]
  },
  {
   "cell_type": "code",
   "execution_count": 40,
   "id": "b6eddc39",
   "metadata": {},
   "outputs": [
    {
     "data": {
      "text/plain": [
       "[<matplotlib.lines.Line2D at 0x10d111a90>]"
      ]
     },
     "execution_count": 40,
     "metadata": {},
     "output_type": "execute_result"
    }
   ],
   "source": [
    "#drawing the net\n",
    "ax.plot([net_position, net_position], [0,doubles_width], linewidth = 1.5)"
   ]
  },
  {
   "cell_type": "code",
   "execution_count": 41,
   "id": "8c68e131",
   "metadata": {},
   "outputs": [
    {
     "data": {
      "text/plain": [
       "[<matplotlib.lines.Line2D at 0x10d15a490>]"
      ]
     },
     "execution_count": 41,
     "metadata": {},
     "output_type": "execute_result"
    }
   ],
   "source": [
    "#drawing the service line\n",
    "ax.plot([service_line_1, service_line_2], [0, doubles_width], linewidth = 1.5)\n",
    "ax.plot([service_line_1, service_line_2], [0, doubles_width], linewidth = 1.5)"
   ]
  },
  {
   "cell_type": "code",
   "execution_count": 42,
   "id": "e002597e-5fc1-49b8-bb6e-04080a38b150",
   "metadata": {},
   "outputs": [
    {
     "data": {
      "text/plain": [
       "[<matplotlib.lines.Line2D at 0x10d111d10>]"
      ]
     },
     "execution_count": 42,
     "metadata": {},
     "output_type": "execute_result"
    }
   ],
   "source": [
    "#drawing the centre service line\n",
    "ax.plot([service_line_1, service_line_2], [net_position_horizontal, net_position_horizontal], linewidth = 1.5)"
   ]
  },
  {
   "cell_type": "code",
   "execution_count": 46,
   "id": "ae5c0424-099a-4a8f-80a9-a1cef0558753",
   "metadata": {},
   "outputs": [
    {
     "data": {
      "text/plain": [
       "[<matplotlib.lines.Line2D at 0x10d15a710>]"
      ]
     },
     "execution_count": 46,
     "metadata": {},
     "output_type": "execute_result"
    }
   ],
   "source": [
    "#Baseline centre markings on the baseline to guide when serving\n",
    "centre_marking = 0.25\n",
    "ax.plot([0, 0], [net_position_horizontal - centre_marking, net_position_horizontal + centre_marking], linewidth = 1.5)\n",
    "ax.plot([doubles_length, doubles_length], [net_position_horizontal - centre_marking, net_position_horizontal + centre_marking], linewidth = 1.5)\n"
   ]
  },
  {
   "cell_type": "code",
   "execution_count": 47,
   "id": "0ae44c7d-ad72-4c1c-9f63-d591f0549c8a",
   "metadata": {},
   "outputs": [
    {
     "data": {
      "text/plain": [
       "[<matplotlib.lines.Line2D at 0x10d15a990>]"
      ]
     },
     "execution_count": 47,
     "metadata": {},
     "output_type": "execute_result"
    }
   ],
   "source": [
    "#drawing the servicebox\n",
    "\n",
    "ax.plot([service_line_1, service_line_2], [singles_sideline_left, singles_sideline_left], linewidth = 1.5)\n",
    "ax.plot([service_line_1, service_line_2], [singles_sideline_right, singles_sideline_right], linewidth = 1.5)\n"
   ]
  },
  {
   "cell_type": "code",
   "execution_count": 48,
   "id": "4c49a6e3-f81c-4290-bbba-568d8ec835c0",
   "metadata": {},
   "outputs": [
    {
     "data": {
      "text/plain": [
       "(-1.0, 37.0)"
      ]
     },
     "execution_count": 48,
     "metadata": {},
     "output_type": "execute_result"
    }
   ],
   "source": [
    "#Scaling the dimensions using \"set_aspect\", so that 1 unit of feet on the x-axis is the same as on the y-axis\n",
    "\n",
    "ax.set_aspect('equal', adjustable = 'box')\n",
    "ax.set_xlim(-1, doubles_length + 1)\n",
    "ax.set_ylim(-1, doubles_width + 1)"
   ]
  },
  {
   "cell_type": "code",
   "execution_count": 49,
   "id": "3b86ade4-befd-4284-b1e9-5733438c4e28",
   "metadata": {},
   "outputs": [
    {
     "data": {
      "text/plain": [
       "Text(0.5, 1.0, 'Horizontal Tennis Court in feet')"
      ]
     },
     "execution_count": 49,
     "metadata": {},
     "output_type": "execute_result"
    }
   ],
   "source": [
    "#setting the title\n",
    "ax.set_title(\"Horizontal Tennis Court in feet\")"
   ]
  },
  {
   "cell_type": "code",
   "execution_count": 52,
   "id": "0fe7f85b-076e-411a-81cf-bcb9810c84bb",
   "metadata": {},
   "outputs": [
    {
     "data": {
      "text/plain": [
       "(np.float64(-1.0), np.float64(79.0), np.float64(-1.0), np.float64(37.0))"
      ]
     },
     "execution_count": 52,
     "metadata": {},
     "output_type": "execute_result"
    }
   ],
   "source": [
    "ax.axis('off')"
   ]
  },
  {
   "cell_type": "code",
   "execution_count": 56,
   "id": "6e1d841b-b23c-4cc8-8708-77fd22ffcd17",
   "metadata": {},
   "outputs": [],
   "source": [
    "plt.show()"
   ]
  },
  {
   "cell_type": "code",
   "execution_count": 54,
   "id": "11e1dde8-38aa-4016-92e3-f765d58b3bfc",
   "metadata": {},
   "outputs": [
    {
     "data": {
      "text/plain": [
       "(<Figure size 1300x600 with 1 Axes>,\n",
       " <Axes: title={'center': 'Horizontal Tennis Court in feet'}>)"
      ]
     },
     "execution_count": 54,
     "metadata": {},
     "output_type": "execute_result"
    }
   ],
   "source": [
    "fig, ax"
   ]
  },
  {
   "cell_type": "code",
   "execution_count": 58,
   "id": "d82c9602-949c-4f58-9126-8abe21e3a4b1",
   "metadata": {},
   "outputs": [
    {
     "data": {
      "text/plain": [
       "<Figure size 640x480 with 0 Axes>"
      ]
     },
     "metadata": {},
     "output_type": "display_data"
    }
   ],
   "source": [
    "plt.savefig(\"Tennis_court.png\", dpi=300, bbox_inches=\"tight\")\n"
   ]
  },
  {
   "cell_type": "code",
   "execution_count": null,
   "id": "1a9bb5d9-5042-4d08-8eb3-b8f347069948",
   "metadata": {},
   "outputs": [],
   "source": []
  }
 ],
 "metadata": {
  "kernelspec": {
   "display_name": "Python 3 (ipykernel)",
   "language": "python",
   "name": "python3"
  },
  "language_info": {
   "codemirror_mode": {
    "name": "ipython",
    "version": 3
   },
   "file_extension": ".py",
   "mimetype": "text/x-python",
   "name": "python",
   "nbconvert_exporter": "python",
   "pygments_lexer": "ipython3",
   "version": "3.13.7"
  }
 },
 "nbformat": 4,
 "nbformat_minor": 5
}
