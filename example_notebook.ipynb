{
 "cells": [
  {
   "cell_type": "code",
   "execution_count": 2,
   "id": "a6857c60",
   "metadata": {},
   "outputs": [
    {
     "name": "stdout",
     "output_type": "stream",
     "text": [
      "The autoreload extension is already loaded. To reload it, use:\n",
      "  %reload_ext autoreload\n"
     ]
    }
   ],
   "source": [
    "%load_ext autoreload\n",
    "%autoreload 2\n",
    "\n",
    "import pandas as pd\n",
    "pd.set_option(\"display.max_rows\", 101)\n",
    "pd.set_option(\"display.max_columns\", 101)\n",
    "\n",
    "import matplotlib.pyplot as plt"
   ]
  },
  {
   "cell_type": "code",
   "execution_count": 12,
   "id": "d2b01551",
   "metadata": {},
   "outputs": [],
   "source": [
    "import example_module as em"
   ]
  },
  {
   "cell_type": "code",
   "execution_count": 13,
   "id": "27793560",
   "metadata": {},
   "outputs": [],
   "source": [
    "text = em.hello_world()"
   ]
  },
  {
   "cell_type": "code",
   "execution_count": 14,
   "id": "dbcb5835",
   "metadata": {},
   "outputs": [
    {
     "data": {
      "text/plain": [
       "'Hello world from a module'"
      ]
     },
     "execution_count": 14,
     "metadata": {},
     "output_type": "execute_result"
    }
   ],
   "source": [
    "text"
   ]
  },
  {
   "cell_type": "code",
   "execution_count": 15,
   "id": "8ac53833",
   "metadata": {},
   "outputs": [],
   "source": [
    "y = em.some_other_function(10)"
   ]
  },
  {
   "cell_type": "code",
   "execution_count": 16,
   "id": "fc38b01e",
   "metadata": {},
   "outputs": [
    {
     "data": {
      "text/plain": [
       "10"
      ]
     },
     "execution_count": 16,
     "metadata": {},
     "output_type": "execute_result"
    }
   ],
   "source": [
    "y"
   ]
  },
  {
   "cell_type": "code",
   "execution_count": 17,
   "id": "9d0151b7",
   "metadata": {},
   "outputs": [],
   "source": [
    "y = em.some_other_function(\"Hmmmmmm?\")"
   ]
  },
  {
   "cell_type": "code",
   "execution_count": 18,
   "id": "ca6f401d",
   "metadata": {},
   "outputs": [
    {
     "data": {
      "text/plain": [
       "'Hmmmmmm?'"
      ]
     },
     "execution_count": 18,
     "metadata": {},
     "output_type": "execute_result"
    }
   ],
   "source": [
    "y"
   ]
  },
  {
   "cell_type": "code",
   "execution_count": 19,
   "id": "c309dbe9",
   "metadata": {},
   "outputs": [],
   "source": [
    "z = em.some_other_function(\"ahhhhhh!\")"
   ]
  },
  {
   "cell_type": "code",
   "execution_count": 20,
   "id": "7e08d7bc",
   "metadata": {},
   "outputs": [
    {
     "data": {
      "text/plain": [
       "'ahhhhhh!'"
      ]
     },
     "execution_count": 20,
     "metadata": {},
     "output_type": "execute_result"
    }
   ],
   "source": [
    "z"
   ]
  },
  {
   "cell_type": "code",
   "execution_count": 21,
   "id": "24c81592",
   "metadata": {},
   "outputs": [],
   "source": [
    "zz = em.some_other_function(\"ahhhhhh again!\")\n",
    "\n"
   ]
  },
  {
   "cell_type": "code",
   "execution_count": 22,
   "id": "b6eddc39",
   "metadata": {},
   "outputs": [
    {
     "data": {
      "text/plain": [
       "'ahhhhhh again!'"
      ]
     },
     "execution_count": 22,
     "metadata": {},
     "output_type": "execute_result"
    }
   ],
   "source": [
    "zz"
   ]
  },
  {
   "cell_type": "code",
   "execution_count": null,
   "id": "8c68e131",
   "metadata": {},
   "outputs": [],
   "source": []
  }
 ],
 "metadata": {
  "kernelspec": {
   "display_name": "Python 3 (ipykernel)",
   "language": "python",
   "name": "python3"
  },
  "language_info": {
   "codemirror_mode": {
    "name": "ipython",
    "version": 3
   },
   "file_extension": ".py",
   "mimetype": "text/x-python",
   "name": "python",
   "nbconvert_exporter": "python",
   "pygments_lexer": "ipython3",
   "version": "3.13.7"
  }
 },
 "nbformat": 4,
 "nbformat_minor": 5
}
